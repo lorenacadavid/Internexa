{
 "cells": [
  {
   "cell_type": "code",
   "execution_count": 7,
   "metadata": {},
   "outputs": [],
   "source": [
    "%reset -f\n",
    "\n",
    "import numpy as np\n",
    "import pandas as pd\n",
    "import dateutil\n",
    "import configparser"
   ]
  },
  {
   "cell_type": "code",
   "execution_count": 8,
   "metadata": {},
   "outputs": [],
   "source": [
    "def load_data():\n",
    "    \"\"\"Lee los datos del directorio de trabajo.\n",
    "    \"\"\"\n",
    "    \n",
    "    global pathoutput, data\n",
    "    \n",
    "    data = pd.read_csv(working_dir + \"datos.csv\", sep=',', decimal='.')"
   ]
  },
  {
   "cell_type": "code",
   "execution_count": 9,
   "metadata": {},
   "outputs": [],
   "source": [
    "def construircol():\n",
    "    \"\"\"Construye las columnas necesarias para el analisis.\n",
    "    \"\"\"\n",
    "\n",
    "    global data\n",
    "    \n",
    "    data['Fecha'] = data['Fecha'].apply(dateutil.parser.parse, dayfirst=True)\n",
    "    data['ano'] = pd.DatetimeIndex(data['Fecha']).year\n",
    "    data['mes'] = pd.DatetimeIndex(data['Fecha']).month\n",
    "    data['dia'] = pd.DatetimeIndex(data['Fecha']).day\n",
    "    data['hora'] = pd.DatetimeIndex(data['Fecha']).hour\n",
    "    data['minuto'] = pd.DatetimeIndex(data['Fecha']).minute\n",
    "    data = data.sort_values(['ID_Transformador', 'Fecha'], ascending=[True, True])\n",
    "    data['carga'] = data['Energia_Activa_kWh'] - data['Energia_Activa_kWh'].shift(1) \n",
    "    data.loc[(data.carga < 0), 'carga'] = np.nan\n",
    "    data.loc[(data.hora != data.hora.shift(1)) & (data.hora - 1 != data.hora.shift(1)), 'carga'] = np.nan\n",
    "    data.loc[(data.dia != data.dia.shift(1)) & (data.dia - 1 != data.dia.shift(1)), 'carga'] = np.nan\n"
   ]
  },
  {
   "cell_type": "code",
   "execution_count": 10,
   "metadata": {},
   "outputs": [],
   "source": [
    "def removout():\n",
    "    \"\"\"Remueve los outliers de la columna carga, por transformador.\n",
    "    Los outliers se presentan por inconsistencias en la informacion.\n",
    "    Outlier: dato que esta a mas de 2.5 desviaciones estandar de la media.\n",
    "    \n",
    "    \"\"\"\n",
    "\n",
    "    global data\n",
    "    \n",
    "    grupos = data.groupby(['ID_Transformador'])\n",
    "    prov = pd.DataFrame(grupos['carga'].mean())\n",
    "    prov['LS'] = grupos['carga'].mean() + grupos['carga'].std() * 2.5\n",
    "    prov['LI'] = grupos['carga'].mean() - grupos['carga'].std() * 2.5\n",
    "    prov['id_t'] = prov.index\n",
    "    data = data.rename(columns={'ID_Transformador': 'id_t'})\n",
    "    data = data.merge(prov[['LS','LI','id_t']], on = 'id_t',how='right')\n",
    "    data.loc[(data.carga >= data.LS) | (data.carga <= data.LI), 'carga'] = np.nan"
   ]
  },
  {
   "cell_type": "code",
   "execution_count": 11,
   "metadata": {},
   "outputs": [],
   "source": [
    "def cmaxpromdia():\n",
    "    \"\"\"Calcula la carga maxima de cada nodo por dia, como la maxima de las cargas consolidadas por hora.\n",
    "    Calcula la carga promedio de cada nodo por dia, como el promedio de las cargas consolidadas por hora.    \n",
    "\n",
    "    \"\"\"\n",
    "\n",
    "    global c_max_prom_dia\n",
    "    \n",
    "    grupos1 = data.groupby(['id_t','ano','mes','dia','hora'])\n",
    "    prov1 = pd.DataFrame(grupos1['carga'].sum())\n",
    "\n",
    "    grupos2 = prov1.groupby(['id_t','ano','mes','dia'])\n",
    "    c_max_prom_dia = pd.DataFrame(grupos2['carga'].max())\n",
    "    c_max_prom_dia['cmax'] = grupos2['carga'].max()\n",
    "    c_max_prom_dia['cpro'] = grupos2['carga'].mean()"
   ]
  },
  {
   "cell_type": "code",
   "execution_count": 12,
   "metadata": {},
   "outputs": [],
   "source": [
    "def cmaxpromnodo():\n",
    "    \"\"\"Calcula la carga maxima de cada nodo, como el promedio de las cargas maximas por dia.\n",
    "    Calcula la carga promedio de cada nodo, como el promedio de las cargas promedio por dia.\n",
    "\n",
    "    \"\"\"\n",
    "    \n",
    "    global c_max_prom_nodo\n",
    "    \n",
    "    grupos = c_max_prom_dia.groupby(['id_t','ano'])\n",
    "    c_max_prom_nodo = pd.DataFrame(grupos['cmax'].max())\n",
    "    c_max_prom_nodo['cmax'] = grupos['cmax'].mean()\n",
    "    c_max_prom_nodo['prom'] = grupos['cpro'].mean()"
   ]
  },
  {
   "cell_type": "code",
   "execution_count": 13,
   "metadata": {},
   "outputs": [],
   "source": [
    "def ddapromnodo():\n",
    "    \"\"\"Calcula la demanda promedio de cada nodo, como el promedio de las demandas por dia.\n",
    "\n",
    "    \"\"\"\n",
    "\n",
    "    global d_prom_nodo\n",
    "    \n",
    "    grupos = data.groupby(['id_t','ano','mes','dia'])\n",
    "    prov = pd.DataFrame(grupos['carga'].sum())\n",
    "    prov['horas_med'] = ((grupos['Fecha'].max() - grupos['Fecha'].min()).dt.total_seconds())/(60*60)\n",
    "    prov['dda_med'] = grupos['Energia_Activa_kWh'].max() - grupos['Energia_Activa_kWh'].min()\n",
    "    prov['dda_dia'] = prov['dda_med'] / prov['horas_med'] * 24\n",
    "    \n",
    "    grupos1 = prov.groupby(['id_t','ano'])\n",
    "    d_prom_nodo = pd.DataFrame(grupos1['dda_dia'].mean())\n",
    "    d_prom_nodo.index.names = ['id_tf','ano']\n",
    "    d_prom_nodo['id_t'] = d_prom_nodo.index.get_level_values('id_tf')"
   ]
  },
  {
   "cell_type": "code",
   "execution_count": 14,
   "metadata": {},
   "outputs": [],
   "source": [
    "def cydpornodo():\n",
    "    \"\"\"Consolida la informacion de carga promedio, carga maxima y demanda por nodo.\n",
    "\n",
    "    \"\"\"\n",
    "    global cyd_pornodo\n",
    "    \n",
    "    cmaxpromdia()\n",
    "    cmaxpromnodo()\n",
    "    ddapromnodo()\n",
    "    cyd_pornodo = c_max_prom_nodo.merge(d_prom_nodo[['dda_dia','id_t']], on = 'id_t',how='right')"
   ]
  },
  {
   "cell_type": "code",
   "execution_count": 15,
   "metadata": {},
   "outputs": [],
   "source": [
    "#Ejecuta la simulacion\n",
    "\n",
    "working_dir=\"\"\n",
    "load_data()\n",
    "construircol()\n",
    "removout()\n",
    "cydpornodo()\n",
    "\n",
    "# reporte en csv\n",
    "data.to_csv(working_dir + 'data.csv')\n",
    "cyd_pornodo.to_csv(working_dir + 'cyd_pornodo.csv')\n",
    "\n"
   ]
  }
 ],
 "metadata": {
  "kernelspec": {
   "display_name": "Python 3",
   "language": "python",
   "name": "python3"
  },
  "language_info": {
   "codemirror_mode": {
    "name": "ipython",
    "version": 3
   },
   "file_extension": ".py",
   "mimetype": "text/x-python",
   "name": "python",
   "nbconvert_exporter": "python",
   "pygments_lexer": "ipython3",
   "version": "3.6.5"
  }
 },
 "nbformat": 4,
 "nbformat_minor": 2
}
